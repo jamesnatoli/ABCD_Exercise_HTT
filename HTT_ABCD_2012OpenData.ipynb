{
  "nbformat": 4,
  "nbformat_minor": 0,
  "metadata": {
    "kernelspec": {
      "display_name": "Python 3",
      "language": "python",
      "name": "python3"
    },
    "language_info": {
      "codemirror_mode": {
        "name": "ipython",
        "version": 3
      },
      "file_extension": ".py",
      "mimetype": "text/x-python",
      "name": "python",
      "nbconvert_exporter": "python",
      "pygments_lexer": "ipython3",
      "version": "3.5.3"
    },
    "colab": {
      "provenance": [],
      "toc_visible": true,
      "include_colab_link": true
    }
  },
  "cells": [
    {
      "cell_type": "markdown",
      "metadata": {
        "id": "view-in-github",
        "colab_type": "text"
      },
      "source": [
        "<a href=\"https://colab.research.google.com/github/jamesnatoli/ABCD_Exercise_HTT/blob/main/HTT_ABCD_2012OpenData.ipynb\" target=\"_parent\"><img src=\"https://colab.research.google.com/assets/colab-badge.svg\" alt=\"Open In Colab\"/></a>"
      ]
    },
    {
      "cell_type": "markdown",
      "source": [
        "# ABCD Exercise"
      ],
      "metadata": {
        "id": "451b8FFPTUuX"
      }
    },
    {
      "cell_type": "markdown",
      "source": [
        "First, we need to import some powerful python modules, which allow us to store and manipulate the data"
      ],
      "metadata": {
        "id": "yzQG1j6BX29s"
      }
    },
    {
      "cell_type": "code",
      "source": [
        "import pandas as pd\n",
        "import numpy as np"
      ],
      "metadata": {
        "id": "kl-dKepgUYAl"
      },
      "execution_count": 2,
      "outputs": []
    },
    {
      "cell_type": "markdown",
      "source": [
        "We'll now clone a git repository that contains the files we need, as well as a helpful python script for plotting. Using this out of the box will allow us to focus on the ABCD method and not the technicalities of plotting"
      ],
      "metadata": {
        "id": "d9_CPJeIcwgz"
      }
    },
    {
      "cell_type": "code",
      "source": [
        "!git clone https://github.com/jamesnatoli/HiggsTauTauNanoAODOutreachAnalysis.git\n",
        "!ls"
      ],
      "metadata": {
        "id": "fDGXBOOudUsU",
        "outputId": "1f686b79-7812-458a-ed4d-4457d50a1df5",
        "colab": {
          "base_uri": "https://localhost:8080/"
        }
      },
      "execution_count": 3,
      "outputs": [
        {
          "output_type": "stream",
          "name": "stdout",
          "text": [
            "Cloning into 'HiggsTauTauNanoAODOutreachAnalysis'...\n",
            "remote: Enumerating objects: 243, done.\u001b[K\n",
            "remote: Counting objects: 100% (17/17), done.\u001b[K\n",
            "remote: Compressing objects: 100% (11/11), done.\u001b[K\n",
            "remote: Total 243 (delta 7), reused 8 (delta 6), pack-reused 226\u001b[K\n",
            "Receiving objects: 100% (243/243), 63.15 MiB | 18.08 MiB/s, done.\n",
            "Resolving deltas: 100% (109/109), done.\n",
            "Updating files: 100% (88/88), done.\n",
            "HiggsTauTauNanoAODOutreachAnalysis  sample_data\n"
          ]
        }
      ]
    },
    {
      "cell_type": "markdown",
      "source": [
        "Now let's cd (change directory) in to the git repo we just cloned, and make sure everything is there"
      ],
      "metadata": {
        "id": "OR9feRU6dqUK"
      }
    },
    {
      "cell_type": "code",
      "source": [
        "%cd HiggsTauTauNanoAODOutreachAnalysis\n",
        "!ls"
      ],
      "metadata": {
        "id": "Z__c3YildhHG",
        "outputId": "51211bb4-177f-4b4b-a29b-93eb133a7077",
        "colab": {
          "base_uri": "https://localhost:8080/"
        }
      },
      "execution_count": 4,
      "outputs": [
        {
          "output_type": "stream",
          "name": "stdout",
          "text": [
            "/content/HiggsTauTauNanoAODOutreachAnalysis\n",
            "4-quick_start_to_CMS_open_data.ipynb  plots\t\t\t       TTbarSkim_store.csv\n",
            "createDataFrame.py\t\t      README.md\t\t\t       VBF_HToTauTauSkim_store.csv\n",
            "DYJetsToLLSkim_store.csv\t      reana.yaml\t\t       W1JetsToLNuSkim_store.csv\n",
            "GluGluToHToTauTauSkim_store.csv       Run2012B_TauPlusXSkim_store.csv  W2JetsToLNuSkim_store.csv\n",
            "histograms.py\t\t\t      Run2012C_TauPlusXSkim_store.csv  W3JetsToLNuSkim_store.csv\n",
            "LICENSE\t\t\t\t      run.sh\n",
            "plot.py\t\t\t\t      skim.cxx\n"
          ]
        }
      ]
    },
    {
      "cell_type": "markdown",
      "source": [
        "Now we can load the data, which is stored in csv (comma separated values) format. This storage method is very simple, but allows values to be read by many different applications"
      ],
      "metadata": {
        "id": "A-wgkFGRYAHo"
      }
    },
    {
      "cell_type": "code",
      "source": [
        "inputs = {'DYJetsToLL_ZLL':    'ZLL', # Drell-Yan --> 2 Leptons\n",
        "          'DYJetsToLL_ZTT':    'ZTT', # Drell-Yan --> 2 Taus\n",
        "          'W1JetsToLNu':       'W1J', # W Boson + 1 Jet --> Lepton + Neutrino\n",
        "          'W2JetsToLNu':       'W2J', # W Boson + 2 Jets --> Lepton + Neutrino\n",
        "          'W3JetsToLNu':       'W3J', # W Boson + 3 Jets --> Lepton + Neutrino\n",
        "          'TTbar':             'TT',  # Top + AntiTop\n",
        "          'VBF_HToTauTau':     'qqH', # Vector Boson Fusion\n",
        "          'GluGluToHToTauTau': 'ggH', # Gluon Gluon Fusion\n",
        "          'Run2012B_TauPlusX': 'dataRunB', # Data, Era B (4.485 /fb)\n",
        "          'Run2012C_TauPlusX': 'dataRunC', # Data, Era C (6.614 /fb)\n",
        "          }\n",
        "\n",
        "events = pd.DataFrame()\n",
        "to_concat = []\n",
        "labels = []\n",
        "for ifile, label in inputs.items():\n",
        "  # we use read_csv function from pandas to read the eventgs into a \"data frame\"\n",
        "  print(f'Loading {ifile}...')\n",
        "  if 'DYJetsToLL' in ifile: ifile = 'DYJetsToLL'\n",
        "  input_df = pd.read_csv(ifile+'Skim_store.csv')\n",
        "  input_df['label'] = np.full(len(input_df), label) # add column with the labels\n",
        "  to_concat.append(input_df)\n",
        "  labels.append(label)\n",
        "\n",
        "# now we put them all in the same object\n",
        "events = pd.concat(to_concat)\n",
        "\n",
        "# lets take a peak inside...\n",
        "events.head()"
      ],
      "metadata": {
        "id": "P-FGeVBPTZn1",
        "outputId": "8e81a907-2c43-4a17-c64d-c111d417f89f",
        "colab": {
          "base_uri": "https://localhost:8080/",
          "height": 409
        }
      },
      "execution_count": 121,
      "outputs": [
        {
          "output_type": "stream",
          "name": "stdout",
          "text": [
            "Loading DYJetsToLL_ZLL...\n",
            "Loading DYJetsToLL_ZTT...\n",
            "Loading W1JetsToLNu...\n",
            "Loading W2JetsToLNu...\n",
            "Loading W3JetsToLNu...\n",
            "Loading TTbar...\n",
            "Loading VBF_HToTauTau...\n",
            "Loading GluGluToHToTauTau...\n",
            "Loading Run2012B_TauPlusX...\n",
            "Loading Run2012C_TauPlusX...\n"
          ]
        },
        {
          "output_type": "execute_result",
          "data": {
            "text/plain": [
              "   Unnamed: 0  njets  npv       pt_1     eta_1     phi_1       m_1     iso_1  \\\n",
              "0           0      0   17  17.545351 -0.787461  1.523578  0.105658  0.127352   \n",
              "1           1      0   19  21.322285  0.734122  2.959332  0.105658  0.069089   \n",
              "2           2      0   11  21.152906 -0.417071 -1.380073  0.105658  0.159884   \n",
              "3           3      0   13  26.634708  1.823677  1.022758  0.105658  0.000000   \n",
              "4           4      1   15  19.996640 -0.504789  2.123815  0.105658  0.042825   \n",
              "\n",
              "   q_1       mt_1  ...      m_vis     pt_vis    mjj   ptjj  jdeta  gen_match  \\\n",
              "0    1  19.278289  ...  62.613564  12.580107 -999.0 -999.0 -999.0       True   \n",
              "1   -1   8.830149  ...  49.865227   6.382893 -999.0 -999.0 -999.0       True   \n",
              "2    1   0.875113  ...  68.722560  23.421194 -999.0 -999.0 -999.0       True   \n",
              "3   -1  34.184495  ...  64.033040   8.310519 -999.0 -999.0 -999.0       True   \n",
              "4    1   0.869223  ...  21.241768  40.054832 -999.0 -999.0 -999.0       True   \n",
              "\n",
              "      run    weight     sample_name  label  \n",
              "0  194533  1.319055  DYJetsToLLSkim    ZLL  \n",
              "1  194533  1.319055  DYJetsToLLSkim    ZLL  \n",
              "2  194533  1.319055  DYJetsToLLSkim    ZLL  \n",
              "3  200519  1.319055  DYJetsToLLSkim    ZLL  \n",
              "4  200519  1.319055  DYJetsToLLSkim    ZLL  \n",
              "\n",
              "[5 rows x 40 columns]"
            ],
            "text/html": [
              "\n",
              "  <div id=\"df-54532954-b5db-4124-b39b-654466b4771e\" class=\"colab-df-container\">\n",
              "    <div>\n",
              "<style scoped>\n",
              "    .dataframe tbody tr th:only-of-type {\n",
              "        vertical-align: middle;\n",
              "    }\n",
              "\n",
              "    .dataframe tbody tr th {\n",
              "        vertical-align: top;\n",
              "    }\n",
              "\n",
              "    .dataframe thead th {\n",
              "        text-align: right;\n",
              "    }\n",
              "</style>\n",
              "<table border=\"1\" class=\"dataframe\">\n",
              "  <thead>\n",
              "    <tr style=\"text-align: right;\">\n",
              "      <th></th>\n",
              "      <th>Unnamed: 0</th>\n",
              "      <th>njets</th>\n",
              "      <th>npv</th>\n",
              "      <th>pt_1</th>\n",
              "      <th>eta_1</th>\n",
              "      <th>phi_1</th>\n",
              "      <th>m_1</th>\n",
              "      <th>iso_1</th>\n",
              "      <th>q_1</th>\n",
              "      <th>mt_1</th>\n",
              "      <th>...</th>\n",
              "      <th>m_vis</th>\n",
              "      <th>pt_vis</th>\n",
              "      <th>mjj</th>\n",
              "      <th>ptjj</th>\n",
              "      <th>jdeta</th>\n",
              "      <th>gen_match</th>\n",
              "      <th>run</th>\n",
              "      <th>weight</th>\n",
              "      <th>sample_name</th>\n",
              "      <th>label</th>\n",
              "    </tr>\n",
              "  </thead>\n",
              "  <tbody>\n",
              "    <tr>\n",
              "      <th>0</th>\n",
              "      <td>0</td>\n",
              "      <td>0</td>\n",
              "      <td>17</td>\n",
              "      <td>17.545351</td>\n",
              "      <td>-0.787461</td>\n",
              "      <td>1.523578</td>\n",
              "      <td>0.105658</td>\n",
              "      <td>0.127352</td>\n",
              "      <td>1</td>\n",
              "      <td>19.278289</td>\n",
              "      <td>...</td>\n",
              "      <td>62.613564</td>\n",
              "      <td>12.580107</td>\n",
              "      <td>-999.0</td>\n",
              "      <td>-999.0</td>\n",
              "      <td>-999.0</td>\n",
              "      <td>True</td>\n",
              "      <td>194533</td>\n",
              "      <td>1.319055</td>\n",
              "      <td>DYJetsToLLSkim</td>\n",
              "      <td>ZLL</td>\n",
              "    </tr>\n",
              "    <tr>\n",
              "      <th>1</th>\n",
              "      <td>1</td>\n",
              "      <td>0</td>\n",
              "      <td>19</td>\n",
              "      <td>21.322285</td>\n",
              "      <td>0.734122</td>\n",
              "      <td>2.959332</td>\n",
              "      <td>0.105658</td>\n",
              "      <td>0.069089</td>\n",
              "      <td>-1</td>\n",
              "      <td>8.830149</td>\n",
              "      <td>...</td>\n",
              "      <td>49.865227</td>\n",
              "      <td>6.382893</td>\n",
              "      <td>-999.0</td>\n",
              "      <td>-999.0</td>\n",
              "      <td>-999.0</td>\n",
              "      <td>True</td>\n",
              "      <td>194533</td>\n",
              "      <td>1.319055</td>\n",
              "      <td>DYJetsToLLSkim</td>\n",
              "      <td>ZLL</td>\n",
              "    </tr>\n",
              "    <tr>\n",
              "      <th>2</th>\n",
              "      <td>2</td>\n",
              "      <td>0</td>\n",
              "      <td>11</td>\n",
              "      <td>21.152906</td>\n",
              "      <td>-0.417071</td>\n",
              "      <td>-1.380073</td>\n",
              "      <td>0.105658</td>\n",
              "      <td>0.159884</td>\n",
              "      <td>1</td>\n",
              "      <td>0.875113</td>\n",
              "      <td>...</td>\n",
              "      <td>68.722560</td>\n",
              "      <td>23.421194</td>\n",
              "      <td>-999.0</td>\n",
              "      <td>-999.0</td>\n",
              "      <td>-999.0</td>\n",
              "      <td>True</td>\n",
              "      <td>194533</td>\n",
              "      <td>1.319055</td>\n",
              "      <td>DYJetsToLLSkim</td>\n",
              "      <td>ZLL</td>\n",
              "    </tr>\n",
              "    <tr>\n",
              "      <th>3</th>\n",
              "      <td>3</td>\n",
              "      <td>0</td>\n",
              "      <td>13</td>\n",
              "      <td>26.634708</td>\n",
              "      <td>1.823677</td>\n",
              "      <td>1.022758</td>\n",
              "      <td>0.105658</td>\n",
              "      <td>0.000000</td>\n",
              "      <td>-1</td>\n",
              "      <td>34.184495</td>\n",
              "      <td>...</td>\n",
              "      <td>64.033040</td>\n",
              "      <td>8.310519</td>\n",
              "      <td>-999.0</td>\n",
              "      <td>-999.0</td>\n",
              "      <td>-999.0</td>\n",
              "      <td>True</td>\n",
              "      <td>200519</td>\n",
              "      <td>1.319055</td>\n",
              "      <td>DYJetsToLLSkim</td>\n",
              "      <td>ZLL</td>\n",
              "    </tr>\n",
              "    <tr>\n",
              "      <th>4</th>\n",
              "      <td>4</td>\n",
              "      <td>1</td>\n",
              "      <td>15</td>\n",
              "      <td>19.996640</td>\n",
              "      <td>-0.504789</td>\n",
              "      <td>2.123815</td>\n",
              "      <td>0.105658</td>\n",
              "      <td>0.042825</td>\n",
              "      <td>1</td>\n",
              "      <td>0.869223</td>\n",
              "      <td>...</td>\n",
              "      <td>21.241768</td>\n",
              "      <td>40.054832</td>\n",
              "      <td>-999.0</td>\n",
              "      <td>-999.0</td>\n",
              "      <td>-999.0</td>\n",
              "      <td>True</td>\n",
              "      <td>200519</td>\n",
              "      <td>1.319055</td>\n",
              "      <td>DYJetsToLLSkim</td>\n",
              "      <td>ZLL</td>\n",
              "    </tr>\n",
              "  </tbody>\n",
              "</table>\n",
              "<p>5 rows × 40 columns</p>\n",
              "</div>\n",
              "    <div class=\"colab-df-buttons\">\n",
              "\n",
              "  <div class=\"colab-df-container\">\n",
              "    <button class=\"colab-df-convert\" onclick=\"convertToInteractive('df-54532954-b5db-4124-b39b-654466b4771e')\"\n",
              "            title=\"Convert this dataframe to an interactive table.\"\n",
              "            style=\"display:none;\">\n",
              "\n",
              "  <svg xmlns=\"http://www.w3.org/2000/svg\" height=\"24px\" viewBox=\"0 -960 960 960\">\n",
              "    <path d=\"M120-120v-720h720v720H120Zm60-500h600v-160H180v160Zm220 220h160v-160H400v160Zm0 220h160v-160H400v160ZM180-400h160v-160H180v160Zm440 0h160v-160H620v160ZM180-180h160v-160H180v160Zm440 0h160v-160H620v160Z\"/>\n",
              "  </svg>\n",
              "    </button>\n",
              "\n",
              "  <style>\n",
              "    .colab-df-container {\n",
              "      display:flex;\n",
              "      gap: 12px;\n",
              "    }\n",
              "\n",
              "    .colab-df-convert {\n",
              "      background-color: #E8F0FE;\n",
              "      border: none;\n",
              "      border-radius: 50%;\n",
              "      cursor: pointer;\n",
              "      display: none;\n",
              "      fill: #1967D2;\n",
              "      height: 32px;\n",
              "      padding: 0 0 0 0;\n",
              "      width: 32px;\n",
              "    }\n",
              "\n",
              "    .colab-df-convert:hover {\n",
              "      background-color: #E2EBFA;\n",
              "      box-shadow: 0px 1px 2px rgba(60, 64, 67, 0.3), 0px 1px 3px 1px rgba(60, 64, 67, 0.15);\n",
              "      fill: #174EA6;\n",
              "    }\n",
              "\n",
              "    .colab-df-buttons div {\n",
              "      margin-bottom: 4px;\n",
              "    }\n",
              "\n",
              "    [theme=dark] .colab-df-convert {\n",
              "      background-color: #3B4455;\n",
              "      fill: #D2E3FC;\n",
              "    }\n",
              "\n",
              "    [theme=dark] .colab-df-convert:hover {\n",
              "      background-color: #434B5C;\n",
              "      box-shadow: 0px 1px 3px 1px rgba(0, 0, 0, 0.15);\n",
              "      filter: drop-shadow(0px 1px 2px rgba(0, 0, 0, 0.3));\n",
              "      fill: #FFFFFF;\n",
              "    }\n",
              "  </style>\n",
              "\n",
              "    <script>\n",
              "      const buttonEl =\n",
              "        document.querySelector('#df-54532954-b5db-4124-b39b-654466b4771e button.colab-df-convert');\n",
              "      buttonEl.style.display =\n",
              "        google.colab.kernel.accessAllowed ? 'block' : 'none';\n",
              "\n",
              "      async function convertToInteractive(key) {\n",
              "        const element = document.querySelector('#df-54532954-b5db-4124-b39b-654466b4771e');\n",
              "        const dataTable =\n",
              "          await google.colab.kernel.invokeFunction('convertToInteractive',\n",
              "                                                    [key], {});\n",
              "        if (!dataTable) return;\n",
              "\n",
              "        const docLinkHtml = 'Like what you see? Visit the ' +\n",
              "          '<a target=\"_blank\" href=https://colab.research.google.com/notebooks/data_table.ipynb>data table notebook</a>'\n",
              "          + ' to learn more about interactive tables.';\n",
              "        element.innerHTML = '';\n",
              "        dataTable['output_type'] = 'display_data';\n",
              "        await google.colab.output.renderOutput(dataTable, element);\n",
              "        const docLink = document.createElement('div');\n",
              "        docLink.innerHTML = docLinkHtml;\n",
              "        element.appendChild(docLink);\n",
              "      }\n",
              "    </script>\n",
              "  </div>\n",
              "\n",
              "\n",
              "<div id=\"df-aed773f2-244d-4c17-99d2-0fb5bbf57d50\">\n",
              "  <button class=\"colab-df-quickchart\" onclick=\"quickchart('df-aed773f2-244d-4c17-99d2-0fb5bbf57d50')\"\n",
              "            title=\"Suggest charts\"\n",
              "            style=\"display:none;\">\n",
              "\n",
              "<svg xmlns=\"http://www.w3.org/2000/svg\" height=\"24px\"viewBox=\"0 0 24 24\"\n",
              "     width=\"24px\">\n",
              "    <g>\n",
              "        <path d=\"M19 3H5c-1.1 0-2 .9-2 2v14c0 1.1.9 2 2 2h14c1.1 0 2-.9 2-2V5c0-1.1-.9-2-2-2zM9 17H7v-7h2v7zm4 0h-2V7h2v10zm4 0h-2v-4h2v4z\"/>\n",
              "    </g>\n",
              "</svg>\n",
              "  </button>\n",
              "\n",
              "<style>\n",
              "  .colab-df-quickchart {\n",
              "      --bg-color: #E8F0FE;\n",
              "      --fill-color: #1967D2;\n",
              "      --hover-bg-color: #E2EBFA;\n",
              "      --hover-fill-color: #174EA6;\n",
              "      --disabled-fill-color: #AAA;\n",
              "      --disabled-bg-color: #DDD;\n",
              "  }\n",
              "\n",
              "  [theme=dark] .colab-df-quickchart {\n",
              "      --bg-color: #3B4455;\n",
              "      --fill-color: #D2E3FC;\n",
              "      --hover-bg-color: #434B5C;\n",
              "      --hover-fill-color: #FFFFFF;\n",
              "      --disabled-bg-color: #3B4455;\n",
              "      --disabled-fill-color: #666;\n",
              "  }\n",
              "\n",
              "  .colab-df-quickchart {\n",
              "    background-color: var(--bg-color);\n",
              "    border: none;\n",
              "    border-radius: 50%;\n",
              "    cursor: pointer;\n",
              "    display: none;\n",
              "    fill: var(--fill-color);\n",
              "    height: 32px;\n",
              "    padding: 0;\n",
              "    width: 32px;\n",
              "  }\n",
              "\n",
              "  .colab-df-quickchart:hover {\n",
              "    background-color: var(--hover-bg-color);\n",
              "    box-shadow: 0 1px 2px rgba(60, 64, 67, 0.3), 0 1px 3px 1px rgba(60, 64, 67, 0.15);\n",
              "    fill: var(--button-hover-fill-color);\n",
              "  }\n",
              "\n",
              "  .colab-df-quickchart-complete:disabled,\n",
              "  .colab-df-quickchart-complete:disabled:hover {\n",
              "    background-color: var(--disabled-bg-color);\n",
              "    fill: var(--disabled-fill-color);\n",
              "    box-shadow: none;\n",
              "  }\n",
              "\n",
              "  .colab-df-spinner {\n",
              "    border: 2px solid var(--fill-color);\n",
              "    border-color: transparent;\n",
              "    border-bottom-color: var(--fill-color);\n",
              "    animation:\n",
              "      spin 1s steps(1) infinite;\n",
              "  }\n",
              "\n",
              "  @keyframes spin {\n",
              "    0% {\n",
              "      border-color: transparent;\n",
              "      border-bottom-color: var(--fill-color);\n",
              "      border-left-color: var(--fill-color);\n",
              "    }\n",
              "    20% {\n",
              "      border-color: transparent;\n",
              "      border-left-color: var(--fill-color);\n",
              "      border-top-color: var(--fill-color);\n",
              "    }\n",
              "    30% {\n",
              "      border-color: transparent;\n",
              "      border-left-color: var(--fill-color);\n",
              "      border-top-color: var(--fill-color);\n",
              "      border-right-color: var(--fill-color);\n",
              "    }\n",
              "    40% {\n",
              "      border-color: transparent;\n",
              "      border-right-color: var(--fill-color);\n",
              "      border-top-color: var(--fill-color);\n",
              "    }\n",
              "    60% {\n",
              "      border-color: transparent;\n",
              "      border-right-color: var(--fill-color);\n",
              "    }\n",
              "    80% {\n",
              "      border-color: transparent;\n",
              "      border-right-color: var(--fill-color);\n",
              "      border-bottom-color: var(--fill-color);\n",
              "    }\n",
              "    90% {\n",
              "      border-color: transparent;\n",
              "      border-bottom-color: var(--fill-color);\n",
              "    }\n",
              "  }\n",
              "</style>\n",
              "\n",
              "  <script>\n",
              "    async function quickchart(key) {\n",
              "      const quickchartButtonEl =\n",
              "        document.querySelector('#' + key + ' button');\n",
              "      quickchartButtonEl.disabled = true;  // To prevent multiple clicks.\n",
              "      quickchartButtonEl.classList.add('colab-df-spinner');\n",
              "      try {\n",
              "        const charts = await google.colab.kernel.invokeFunction(\n",
              "            'suggestCharts', [key], {});\n",
              "      } catch (error) {\n",
              "        console.error('Error during call to suggestCharts:', error);\n",
              "      }\n",
              "      quickchartButtonEl.classList.remove('colab-df-spinner');\n",
              "      quickchartButtonEl.classList.add('colab-df-quickchart-complete');\n",
              "    }\n",
              "    (() => {\n",
              "      let quickchartButtonEl =\n",
              "        document.querySelector('#df-aed773f2-244d-4c17-99d2-0fb5bbf57d50 button');\n",
              "      quickchartButtonEl.style.display =\n",
              "        google.colab.kernel.accessAllowed ? 'block' : 'none';\n",
              "    })();\n",
              "  </script>\n",
              "</div>\n",
              "\n",
              "    </div>\n",
              "  </div>\n"
            ],
            "application/vnd.google.colaboratory.intrinsic+json": {
              "type": "dataframe",
              "variable_name": "events"
            }
          },
          "metadata": {},
          "execution_count": 121
        }
      ]
    },
    {
      "cell_type": "code",
      "source": [
        "events = events[ # Split up the Drell-Yan sample in to ZLL and ZTT\n",
        "    ((events['label'] != 'ZTT') | ((events['label'] == 'ZTT') & events['gen_match'])) &\n",
        "    ((events['label'] != 'ZLL') | ((events['label'] == 'ZLL') & ~events['gen_match']))\n",
        "    ]\n",
        "\n",
        "# Now select isolated events\n",
        "iso_events = events[\n",
        "    (events['mt_1'] < 30) & # Muon transverse mass cut for W+jets suppression\n",
        "    (events['iso_1'] < 0.1) # Require isolated muon for signal region\n",
        "    ]\n",
        "\n",
        "# let's take another peak now...\n",
        "iso_events.head()"
      ],
      "metadata": {
        "id": "pTx4yLsWYfIx",
        "colab": {
          "base_uri": "https://localhost:8080/",
          "height": 236
        },
        "outputId": "9df5f0c8-7c25-44a4-941f-d18cb521bca1"
      },
      "execution_count": 123,
      "outputs": [
        {
          "output_type": "execute_result",
          "data": {
            "text/plain": [
              "    Unnamed: 0  njets  npv       pt_1     eta_1     phi_1       m_1     iso_1  \\\n",
              "13          13      0   21  59.290077 -0.185510 -2.429436  0.105658  0.094182   \n",
              "18          18      1   11  29.510347  1.302142  0.888718  0.105658  0.040348   \n",
              "42          42      0   12  53.665688 -1.072835 -1.091055  0.105658  0.000000   \n",
              "47          47      1   25  28.043259  1.359530  3.002496  0.105658  0.028013   \n",
              "62          62      0    5  51.222710 -0.221325 -2.377358  0.105658  0.000000   \n",
              "\n",
              "    q_1       mt_1  ...      m_vis     pt_vis    mjj   ptjj  jdeta  gen_match  \\\n",
              "13   -1   9.183883  ...  122.37241  32.600033 -999.0 -999.0 -999.0      False   \n",
              "18    1  17.233894  ...  102.09473  18.583984 -999.0 -999.0 -999.0      False   \n",
              "42   -1   8.437947  ...   76.50453  32.321810 -999.0 -999.0 -999.0      False   \n",
              "47    1   2.420709  ...   82.98091  14.395263 -999.0 -999.0 -999.0      False   \n",
              "62   -1  15.276152  ...   98.21988  41.185360 -999.0 -999.0 -999.0      False   \n",
              "\n",
              "       run    weight     sample_name  label  \n",
              "13  200519  1.319055  DYJetsToLLSkim    ZLL  \n",
              "18  206859  1.319055  DYJetsToLLSkim    ZLL  \n",
              "42  200519  1.319055  DYJetsToLLSkim    ZLL  \n",
              "47  200519  1.319055  DYJetsToLLSkim    ZLL  \n",
              "62  200519  1.319055  DYJetsToLLSkim    ZLL  \n",
              "\n",
              "[5 rows x 40 columns]"
            ],
            "text/html": [
              "\n",
              "  <div id=\"df-7ec901ef-3bdc-47b2-8ef2-7cb988e4bc04\" class=\"colab-df-container\">\n",
              "    <div>\n",
              "<style scoped>\n",
              "    .dataframe tbody tr th:only-of-type {\n",
              "        vertical-align: middle;\n",
              "    }\n",
              "\n",
              "    .dataframe tbody tr th {\n",
              "        vertical-align: top;\n",
              "    }\n",
              "\n",
              "    .dataframe thead th {\n",
              "        text-align: right;\n",
              "    }\n",
              "</style>\n",
              "<table border=\"1\" class=\"dataframe\">\n",
              "  <thead>\n",
              "    <tr style=\"text-align: right;\">\n",
              "      <th></th>\n",
              "      <th>Unnamed: 0</th>\n",
              "      <th>njets</th>\n",
              "      <th>npv</th>\n",
              "      <th>pt_1</th>\n",
              "      <th>eta_1</th>\n",
              "      <th>phi_1</th>\n",
              "      <th>m_1</th>\n",
              "      <th>iso_1</th>\n",
              "      <th>q_1</th>\n",
              "      <th>mt_1</th>\n",
              "      <th>...</th>\n",
              "      <th>m_vis</th>\n",
              "      <th>pt_vis</th>\n",
              "      <th>mjj</th>\n",
              "      <th>ptjj</th>\n",
              "      <th>jdeta</th>\n",
              "      <th>gen_match</th>\n",
              "      <th>run</th>\n",
              "      <th>weight</th>\n",
              "      <th>sample_name</th>\n",
              "      <th>label</th>\n",
              "    </tr>\n",
              "  </thead>\n",
              "  <tbody>\n",
              "    <tr>\n",
              "      <th>13</th>\n",
              "      <td>13</td>\n",
              "      <td>0</td>\n",
              "      <td>21</td>\n",
              "      <td>59.290077</td>\n",
              "      <td>-0.185510</td>\n",
              "      <td>-2.429436</td>\n",
              "      <td>0.105658</td>\n",
              "      <td>0.094182</td>\n",
              "      <td>-1</td>\n",
              "      <td>9.183883</td>\n",
              "      <td>...</td>\n",
              "      <td>122.37241</td>\n",
              "      <td>32.600033</td>\n",
              "      <td>-999.0</td>\n",
              "      <td>-999.0</td>\n",
              "      <td>-999.0</td>\n",
              "      <td>False</td>\n",
              "      <td>200519</td>\n",
              "      <td>1.319055</td>\n",
              "      <td>DYJetsToLLSkim</td>\n",
              "      <td>ZLL</td>\n",
              "    </tr>\n",
              "    <tr>\n",
              "      <th>18</th>\n",
              "      <td>18</td>\n",
              "      <td>1</td>\n",
              "      <td>11</td>\n",
              "      <td>29.510347</td>\n",
              "      <td>1.302142</td>\n",
              "      <td>0.888718</td>\n",
              "      <td>0.105658</td>\n",
              "      <td>0.040348</td>\n",
              "      <td>1</td>\n",
              "      <td>17.233894</td>\n",
              "      <td>...</td>\n",
              "      <td>102.09473</td>\n",
              "      <td>18.583984</td>\n",
              "      <td>-999.0</td>\n",
              "      <td>-999.0</td>\n",
              "      <td>-999.0</td>\n",
              "      <td>False</td>\n",
              "      <td>206859</td>\n",
              "      <td>1.319055</td>\n",
              "      <td>DYJetsToLLSkim</td>\n",
              "      <td>ZLL</td>\n",
              "    </tr>\n",
              "    <tr>\n",
              "      <th>42</th>\n",
              "      <td>42</td>\n",
              "      <td>0</td>\n",
              "      <td>12</td>\n",
              "      <td>53.665688</td>\n",
              "      <td>-1.072835</td>\n",
              "      <td>-1.091055</td>\n",
              "      <td>0.105658</td>\n",
              "      <td>0.000000</td>\n",
              "      <td>-1</td>\n",
              "      <td>8.437947</td>\n",
              "      <td>...</td>\n",
              "      <td>76.50453</td>\n",
              "      <td>32.321810</td>\n",
              "      <td>-999.0</td>\n",
              "      <td>-999.0</td>\n",
              "      <td>-999.0</td>\n",
              "      <td>False</td>\n",
              "      <td>200519</td>\n",
              "      <td>1.319055</td>\n",
              "      <td>DYJetsToLLSkim</td>\n",
              "      <td>ZLL</td>\n",
              "    </tr>\n",
              "    <tr>\n",
              "      <th>47</th>\n",
              "      <td>47</td>\n",
              "      <td>1</td>\n",
              "      <td>25</td>\n",
              "      <td>28.043259</td>\n",
              "      <td>1.359530</td>\n",
              "      <td>3.002496</td>\n",
              "      <td>0.105658</td>\n",
              "      <td>0.028013</td>\n",
              "      <td>1</td>\n",
              "      <td>2.420709</td>\n",
              "      <td>...</td>\n",
              "      <td>82.98091</td>\n",
              "      <td>14.395263</td>\n",
              "      <td>-999.0</td>\n",
              "      <td>-999.0</td>\n",
              "      <td>-999.0</td>\n",
              "      <td>False</td>\n",
              "      <td>200519</td>\n",
              "      <td>1.319055</td>\n",
              "      <td>DYJetsToLLSkim</td>\n",
              "      <td>ZLL</td>\n",
              "    </tr>\n",
              "    <tr>\n",
              "      <th>62</th>\n",
              "      <td>62</td>\n",
              "      <td>0</td>\n",
              "      <td>5</td>\n",
              "      <td>51.222710</td>\n",
              "      <td>-0.221325</td>\n",
              "      <td>-2.377358</td>\n",
              "      <td>0.105658</td>\n",
              "      <td>0.000000</td>\n",
              "      <td>-1</td>\n",
              "      <td>15.276152</td>\n",
              "      <td>...</td>\n",
              "      <td>98.21988</td>\n",
              "      <td>41.185360</td>\n",
              "      <td>-999.0</td>\n",
              "      <td>-999.0</td>\n",
              "      <td>-999.0</td>\n",
              "      <td>False</td>\n",
              "      <td>200519</td>\n",
              "      <td>1.319055</td>\n",
              "      <td>DYJetsToLLSkim</td>\n",
              "      <td>ZLL</td>\n",
              "    </tr>\n",
              "  </tbody>\n",
              "</table>\n",
              "<p>5 rows × 40 columns</p>\n",
              "</div>\n",
              "    <div class=\"colab-df-buttons\">\n",
              "\n",
              "  <div class=\"colab-df-container\">\n",
              "    <button class=\"colab-df-convert\" onclick=\"convertToInteractive('df-7ec901ef-3bdc-47b2-8ef2-7cb988e4bc04')\"\n",
              "            title=\"Convert this dataframe to an interactive table.\"\n",
              "            style=\"display:none;\">\n",
              "\n",
              "  <svg xmlns=\"http://www.w3.org/2000/svg\" height=\"24px\" viewBox=\"0 -960 960 960\">\n",
              "    <path d=\"M120-120v-720h720v720H120Zm60-500h600v-160H180v160Zm220 220h160v-160H400v160Zm0 220h160v-160H400v160ZM180-400h160v-160H180v160Zm440 0h160v-160H620v160ZM180-180h160v-160H180v160Zm440 0h160v-160H620v160Z\"/>\n",
              "  </svg>\n",
              "    </button>\n",
              "\n",
              "  <style>\n",
              "    .colab-df-container {\n",
              "      display:flex;\n",
              "      gap: 12px;\n",
              "    }\n",
              "\n",
              "    .colab-df-convert {\n",
              "      background-color: #E8F0FE;\n",
              "      border: none;\n",
              "      border-radius: 50%;\n",
              "      cursor: pointer;\n",
              "      display: none;\n",
              "      fill: #1967D2;\n",
              "      height: 32px;\n",
              "      padding: 0 0 0 0;\n",
              "      width: 32px;\n",
              "    }\n",
              "\n",
              "    .colab-df-convert:hover {\n",
              "      background-color: #E2EBFA;\n",
              "      box-shadow: 0px 1px 2px rgba(60, 64, 67, 0.3), 0px 1px 3px 1px rgba(60, 64, 67, 0.15);\n",
              "      fill: #174EA6;\n",
              "    }\n",
              "\n",
              "    .colab-df-buttons div {\n",
              "      margin-bottom: 4px;\n",
              "    }\n",
              "\n",
              "    [theme=dark] .colab-df-convert {\n",
              "      background-color: #3B4455;\n",
              "      fill: #D2E3FC;\n",
              "    }\n",
              "\n",
              "    [theme=dark] .colab-df-convert:hover {\n",
              "      background-color: #434B5C;\n",
              "      box-shadow: 0px 1px 3px 1px rgba(0, 0, 0, 0.15);\n",
              "      filter: drop-shadow(0px 1px 2px rgba(0, 0, 0, 0.3));\n",
              "      fill: #FFFFFF;\n",
              "    }\n",
              "  </style>\n",
              "\n",
              "    <script>\n",
              "      const buttonEl =\n",
              "        document.querySelector('#df-7ec901ef-3bdc-47b2-8ef2-7cb988e4bc04 button.colab-df-convert');\n",
              "      buttonEl.style.display =\n",
              "        google.colab.kernel.accessAllowed ? 'block' : 'none';\n",
              "\n",
              "      async function convertToInteractive(key) {\n",
              "        const element = document.querySelector('#df-7ec901ef-3bdc-47b2-8ef2-7cb988e4bc04');\n",
              "        const dataTable =\n",
              "          await google.colab.kernel.invokeFunction('convertToInteractive',\n",
              "                                                    [key], {});\n",
              "        if (!dataTable) return;\n",
              "\n",
              "        const docLinkHtml = 'Like what you see? Visit the ' +\n",
              "          '<a target=\"_blank\" href=https://colab.research.google.com/notebooks/data_table.ipynb>data table notebook</a>'\n",
              "          + ' to learn more about interactive tables.';\n",
              "        element.innerHTML = '';\n",
              "        dataTable['output_type'] = 'display_data';\n",
              "        await google.colab.output.renderOutput(dataTable, element);\n",
              "        const docLink = document.createElement('div');\n",
              "        docLink.innerHTML = docLinkHtml;\n",
              "        element.appendChild(docLink);\n",
              "      }\n",
              "    </script>\n",
              "  </div>\n",
              "\n",
              "\n",
              "<div id=\"df-34f15bc3-f1ab-48ac-a2ff-35482d9988ba\">\n",
              "  <button class=\"colab-df-quickchart\" onclick=\"quickchart('df-34f15bc3-f1ab-48ac-a2ff-35482d9988ba')\"\n",
              "            title=\"Suggest charts\"\n",
              "            style=\"display:none;\">\n",
              "\n",
              "<svg xmlns=\"http://www.w3.org/2000/svg\" height=\"24px\"viewBox=\"0 0 24 24\"\n",
              "     width=\"24px\">\n",
              "    <g>\n",
              "        <path d=\"M19 3H5c-1.1 0-2 .9-2 2v14c0 1.1.9 2 2 2h14c1.1 0 2-.9 2-2V5c0-1.1-.9-2-2-2zM9 17H7v-7h2v7zm4 0h-2V7h2v10zm4 0h-2v-4h2v4z\"/>\n",
              "    </g>\n",
              "</svg>\n",
              "  </button>\n",
              "\n",
              "<style>\n",
              "  .colab-df-quickchart {\n",
              "      --bg-color: #E8F0FE;\n",
              "      --fill-color: #1967D2;\n",
              "      --hover-bg-color: #E2EBFA;\n",
              "      --hover-fill-color: #174EA6;\n",
              "      --disabled-fill-color: #AAA;\n",
              "      --disabled-bg-color: #DDD;\n",
              "  }\n",
              "\n",
              "  [theme=dark] .colab-df-quickchart {\n",
              "      --bg-color: #3B4455;\n",
              "      --fill-color: #D2E3FC;\n",
              "      --hover-bg-color: #434B5C;\n",
              "      --hover-fill-color: #FFFFFF;\n",
              "      --disabled-bg-color: #3B4455;\n",
              "      --disabled-fill-color: #666;\n",
              "  }\n",
              "\n",
              "  .colab-df-quickchart {\n",
              "    background-color: var(--bg-color);\n",
              "    border: none;\n",
              "    border-radius: 50%;\n",
              "    cursor: pointer;\n",
              "    display: none;\n",
              "    fill: var(--fill-color);\n",
              "    height: 32px;\n",
              "    padding: 0;\n",
              "    width: 32px;\n",
              "  }\n",
              "\n",
              "  .colab-df-quickchart:hover {\n",
              "    background-color: var(--hover-bg-color);\n",
              "    box-shadow: 0 1px 2px rgba(60, 64, 67, 0.3), 0 1px 3px 1px rgba(60, 64, 67, 0.15);\n",
              "    fill: var(--button-hover-fill-color);\n",
              "  }\n",
              "\n",
              "  .colab-df-quickchart-complete:disabled,\n",
              "  .colab-df-quickchart-complete:disabled:hover {\n",
              "    background-color: var(--disabled-bg-color);\n",
              "    fill: var(--disabled-fill-color);\n",
              "    box-shadow: none;\n",
              "  }\n",
              "\n",
              "  .colab-df-spinner {\n",
              "    border: 2px solid var(--fill-color);\n",
              "    border-color: transparent;\n",
              "    border-bottom-color: var(--fill-color);\n",
              "    animation:\n",
              "      spin 1s steps(1) infinite;\n",
              "  }\n",
              "\n",
              "  @keyframes spin {\n",
              "    0% {\n",
              "      border-color: transparent;\n",
              "      border-bottom-color: var(--fill-color);\n",
              "      border-left-color: var(--fill-color);\n",
              "    }\n",
              "    20% {\n",
              "      border-color: transparent;\n",
              "      border-left-color: var(--fill-color);\n",
              "      border-top-color: var(--fill-color);\n",
              "    }\n",
              "    30% {\n",
              "      border-color: transparent;\n",
              "      border-left-color: var(--fill-color);\n",
              "      border-top-color: var(--fill-color);\n",
              "      border-right-color: var(--fill-color);\n",
              "    }\n",
              "    40% {\n",
              "      border-color: transparent;\n",
              "      border-right-color: var(--fill-color);\n",
              "      border-top-color: var(--fill-color);\n",
              "    }\n",
              "    60% {\n",
              "      border-color: transparent;\n",
              "      border-right-color: var(--fill-color);\n",
              "    }\n",
              "    80% {\n",
              "      border-color: transparent;\n",
              "      border-right-color: var(--fill-color);\n",
              "      border-bottom-color: var(--fill-color);\n",
              "    }\n",
              "    90% {\n",
              "      border-color: transparent;\n",
              "      border-bottom-color: var(--fill-color);\n",
              "    }\n",
              "  }\n",
              "</style>\n",
              "\n",
              "  <script>\n",
              "    async function quickchart(key) {\n",
              "      const quickchartButtonEl =\n",
              "        document.querySelector('#' + key + ' button');\n",
              "      quickchartButtonEl.disabled = true;  // To prevent multiple clicks.\n",
              "      quickchartButtonEl.classList.add('colab-df-spinner');\n",
              "      try {\n",
              "        const charts = await google.colab.kernel.invokeFunction(\n",
              "            'suggestCharts', [key], {});\n",
              "      } catch (error) {\n",
              "        console.error('Error during call to suggestCharts:', error);\n",
              "      }\n",
              "      quickchartButtonEl.classList.remove('colab-df-spinner');\n",
              "      quickchartButtonEl.classList.add('colab-df-quickchart-complete');\n",
              "    }\n",
              "    (() => {\n",
              "      let quickchartButtonEl =\n",
              "        document.querySelector('#df-34f15bc3-f1ab-48ac-a2ff-35482d9988ba button');\n",
              "      quickchartButtonEl.style.display =\n",
              "        google.colab.kernel.accessAllowed ? 'block' : 'none';\n",
              "    })();\n",
              "  </script>\n",
              "</div>\n",
              "\n",
              "    </div>\n",
              "  </div>\n"
            ],
            "application/vnd.google.colaboratory.intrinsic+json": {
              "type": "dataframe",
              "variable_name": "iso_events"
            }
          },
          "metadata": {},
          "execution_count": 123
        }
      ]
    },
    {
      "cell_type": "code",
      "source": [
        "SS_events = iso_events[\n",
        "    iso_events['q_1']*iso_events['q_2'] < 0\n",
        "]"
      ],
      "metadata": {
        "id": "oBoEXUsSnnYs"
      },
      "execution_count": 124,
      "outputs": []
    },
    {
      "cell_type": "code",
      "source": [
        "# Import the necessary modules\n",
        "import matplotlib.pyplot as plt\n",
        "\n",
        "# Group these names for convenience\n",
        "signals     = ['qqH', 'ggH']\n",
        "backgrounds = ['ZLL', 'ZTT', 'W1J', 'W2J', 'W3J', 'TT']\n",
        "data        = ['dataRunB', 'dataRunC']\n",
        "\n",
        "# Create 2 plots\n",
        "fig, (ax1, ax2) = plt.subplots( nrows=2, height_ratios=[4,1])\n",
        "\n",
        "# Plot Monte Carlo (MC) Backgrounds\n",
        "bkgdcounts, bins, patches = ax1.hist( SS_events[SS_events['label'].isin(backgrounds)]['m_vis'],\n",
        "                                     bins=30, range=[20, 140], weights=SS_events[SS_events['label'].isin(backgrounds)]['weight'], label='MC Background')\n",
        "\n",
        "# Plot Signals\n",
        "qqHcounts, bins, patches = ax1.hist( SS_events[SS_events['label']=='qqH']['m_vis'],\n",
        "                                    bins=30, range=[20, 140], weights=SS_events[SS_events['label']=='qqH']['weight']*100, histtype='step', label='qqH')\n",
        "ggHcounts, bins, patches = ax1.hist( SS_events[SS_events['label']=='ggH']['m_vis'],\n",
        "                                    bins=30, range=[20, 140], weights=SS_events[SS_events['label']=='ggH']['weight']*10, histtype='step', label='ggH')\n",
        "\n",
        "# Plot Data\n",
        "datacounts, bins = np.histogram( SS_events[SS_events['label'].isin(data)]['m_vis'], bins=30, range=[20, 140])\n",
        "ax1.scatter(bins[:-1]+ 0.5*(bins[1:] - bins[:-1]), datacounts, marker='.', color='black', label='Observed')\n",
        "\n",
        "# Name the axis and give the title\n",
        "# ax1.set_xlabel('Visible di-tau mass [GeV]', loc='right')\n",
        "ax1.set_ylabel(r'$N_{events}$', loc='top')\n",
        "ax1.set_title('CMS Open Data', fontweight='bold', loc='left')\n",
        "ax1.set_title(r'11.5 fb$^{-1}$ (2012, 8 TeV)', loc='right')\n",
        "\n",
        "# Now add a legend\n",
        "ax1.legend()\n",
        "\n",
        "# Add a Ratio Plot\n",
        "ax2.scatter(bins[:-1], datacounts / bkgdcounts, marker='+', color='black')\n",
        "ax2.axhline(1.0, linestyle='--', color='black')\n",
        "\n",
        "ax2.set_xlabel('Visible di-tau mass [GeV]', loc='right')\n",
        "ax2.set_ylabel('Data / Bkgd')\n",
        "ax2.set_ylim( [0, 2.5])\n",
        "\n",
        "# Show the plots now...\n",
        "plt.show()"
      ],
      "metadata": {
        "id": "6WO6RdlgpYiy",
        "outputId": "4ef37749-09b1-48cd-bdac-f46b04ea5231",
        "colab": {
          "base_uri": "https://localhost:8080/",
          "height": 476
        }
      },
      "execution_count": 211,
      "outputs": [
        {
          "output_type": "display_data",
          "data": {
            "text/plain": [
              "<Figure size 640x480 with 2 Axes>"
            ],
            "image/png": "[encoded data removed]"
          },
          "metadata": {}
        }
      ]
    },
    {
      "cell_type": "markdown",
      "source": [
        "What do we notice about this plot? How well does the background simulation agree with the observed data points? What could be the reason for this?\n",
        "\n",
        "Take a look at the ratio plot to visualize the comparison better..."
      ],
      "metadata": {
        "id": "ZywBl0Tqa8SS"
      }
    },
    {
      "cell_type": "code",
      "source": [
        "OS_events = iso_events[\n",
        "    iso_events['q_1']*iso_events['q_2'] > 0\n",
        "]"
      ],
      "metadata": {
        "id": "vkjl1emWyllJ"
      },
      "execution_count": 126,
      "outputs": []
    },
    {
      "cell_type": "code",
      "source": [
        "# Count Data in Opposite Sign (OS) Control Region (CR)\n",
        "datacounts_CR, bins = np.histogram( OS_events[OS_events['label'].isin(data)]['m_vis'], bins=30, range=[20, 140])\n",
        "\n",
        "# Count MC Backgrounds in the CR\n",
        "bkgdcounts_CR, bins = np.histogram( OS_events[OS_events['label'].isin(backgrounds)]['m_vis'], bins=30, range=[20, 140])\n",
        "\n",
        "# Subtract the MC Backgrounds from the Data\n",
        "QCDcounts_CR = datacounts_CR - bkgdcounts_CR\n",
        "\n",
        "# Safety check to remove negative bins\n",
        "QCDcounts_CR = [0 if i < 0.0 else i for i in QCDcounts_CR]\n",
        "\n",
        "# Draw the QCD in this control region\n",
        "plt.stairs( QCDcounts_CR, bins, color='pink', label='QCD Control Region')\n",
        "\n",
        "# Beautify\n",
        "plt.ylabel(r'$N_{events}$', loc='top')\n",
        "plt.xlabel('Visible di-tau mass [GeV]', loc='right')\n",
        "plt.legend()"
      ],
      "metadata": {
        "colab": {
          "base_uri": "https://localhost:8080/",
          "height": 466
        },
        "id": "-7Ofmqx28AAm",
        "outputId": "2687ccb8-3605-4933-9162-9c75b7c55d13"
      },
      "execution_count": 127,
      "outputs": [
        {
          "output_type": "execute_result",
          "data": {
            "text/plain": [
              "<matplotlib.legend.Legend at 0x7f918d51ca30>"
            ]
          },
          "metadata": {},
          "execution_count": 127
        },
        {
          "output_type": "display_data",
          "data": {
            "text/plain": [
              "<Figure size 640x480 with 1 Axes>"
            ],
            "image/png": "[encoded data removed]"
          },
          "metadata": {}
        }
      ]
    },
    {
      "cell_type": "markdown",
      "source": [
        "This is the QCD in a control region, so we need to derive a \"transfer factor\" to extrapolate the contribution to the signal region.\n",
        "\n",
        "Where could this transfer factor come from?"
      ],
      "metadata": {
        "id": "toTC28AZBR8o"
      }
    },
    {
      "cell_type": "code",
      "source": [
        "# Now select isolated events\n",
        "antiiso_events = events[\n",
        "    (events['mt_1'] < 30) & # Muon transverse mass cut for W+jets suppression\n",
        "    (events['iso_1'] > 0.1) # INVERT the muon isolation requirement\n",
        "    ]\n",
        "\n",
        "# Select SS events\n",
        "SS_antiiso_events = antiiso_events [\n",
        "    antiiso_events['q_1']*antiiso_events['q_2'] < 0\n",
        "    ]\n",
        "\n",
        "# Select OS events\n",
        "OS_antiiso_events = antiiso_events [\n",
        "    antiiso_events['q_1']*antiiso_events['q_2'] > 0\n",
        "    ]"
      ],
      "metadata": {
        "id": "cjur8p6q8yI9"
      },
      "execution_count": 128,
      "outputs": []
    },
    {
      "cell_type": "code",
      "source": [
        "fig, (ax1, ax2) = plt.subplots( nrows=2, height_ratios=[4,1])\n",
        "\n",
        "datacounts_SS_antiiso, bins = np.histogram( SS_antiiso_events[SS_antiiso_events['label'].isin(data)]['m_vis'], bins=30, range=[20, 140])\n",
        "datacounts_OS_antiiso, bins = np.histogram( OS_antiiso_events[OS_antiiso_events['label'].isin(data)]['m_vis'], bins=30, range=[20, 140])\n",
        "\n",
        "ax1.scatter(bins[:-1]+ 0.5*(bins[1:] - bins[:-1]), datacounts_SS_antiiso, marker='.', color='red', label='SS Anti-iso')\n",
        "ax1.scatter(bins[:-1]+ 0.5*(bins[1:] - bins[:-1]), datacounts_OS_antiiso, marker='.', color='orange', label='OS Anti-iso')\n",
        "\n",
        "# Beautify\n",
        "# ax1.set_xlabel('Visible di-tau mass [GeV]', loc='right')\n",
        "ax1.set_ylabel(r'$N_{events}$', loc='top')\n",
        "ax1.legend()\n",
        "\n",
        "# Add a Ratio Plot\n",
        "ax2.scatter(bins[:-1], datacounts_OS_antiiso / datacounts_SS_antiiso, marker='+', color='black')\n",
        "# ax2.axhline(1.0, linestyle='--', color='black')\n",
        "\n",
        "ax2.set_xlabel('Visible di-tau mass [GeV]', loc='right')\n",
        "ax2.set_ylabel('Data / MC')\n",
        "ax2.set_ylim( [0.5, 1.5])\n",
        "\n",
        "# Show the plots now...\n",
        "plt.show()"
      ],
      "metadata": {
        "colab": {
          "base_uri": "https://localhost:8080/",
          "height": 449
        },
        "id": "NokygxtvFvOT",
        "outputId": "5e296fce-a2c5-4d33-ac3c-c4fd8b3fec78"
      },
      "execution_count": 190,
      "outputs": [
        {
          "output_type": "display_data",
          "data": {
            "text/plain": [
              "<Figure size 640x480 with 2 Axes>"
            ],
            "image/png": "[encoded data removed]"
          },
          "metadata": {}
        }
      ]
    },
    {
      "cell_type": "code",
      "source": [
        "average_ratio = sum(datacounts_OS_antiiso / datacounts_SS_antiiso) / len(datacounts_SS_antiiso)\n",
        "print(average_ratio)\n",
        "QCDcounts = [ i * average_ratio for i in QCDcounts_CR ]"
      ],
      "metadata": {
        "colab": {
          "base_uri": "https://localhost:8080/"
        },
        "id": "Tf_vUQTVGSe7",
        "outputId": "74316bee-f446-4100-f98f-1b44bdeb5d94"
      },
      "execution_count": 139,
      "outputs": [
        {
          "output_type": "stream",
          "name": "stdout",
          "text": [
            "0.8452776868577838\n"
          ]
        }
      ]
    },
    {
      "cell_type": "markdown",
      "source": [
        "Is this the best to extrapolate with?"
      ],
      "metadata": {
        "id": "kdm7JXUTT8SE"
      }
    },
    {
      "cell_type": "code",
      "source": [
        "bkgdcounts_SS_antiiso, bins = np.histogram( SS_antiiso_events[SS_antiiso_events['label'].isin(backgrounds)]['m_vis'], bins=30, range=[20, 140])\n",
        "bkgdcounts_OS_antiiso, bins = np.histogram( OS_antiiso_events[OS_antiiso_events['label'].isin(backgrounds)]['m_vis'], bins=30, range=[20, 140])\n",
        "\n",
        "QCDcounts_SS_antiiso = datacounts_SS_antiiso - bkgdcounts_SS_antiiso\n",
        "QCDcounts_OS_antiiso = datacounts_OS_antiiso - bkgdcounts_OS_antiiso\n",
        "\n",
        "average_ratio = sum(QCDcounts_OS_antiiso / QCDcounts_SS_antiiso) / len(QCDcounts_SS_antiiso)\n",
        "print(average_ratio)\n",
        "QCDcounts = [ i * average_ratio for i in QCDcounts_CR ]"
      ],
      "metadata": {
        "colab": {
          "base_uri": "https://localhost:8080/"
        },
        "id": "SQdX1PobUPXM",
        "outputId": "8edc51c8-5966-477a-d756-2bdaba963fdb"
      },
      "execution_count": 186,
      "outputs": [
        {
          "output_type": "stream",
          "name": "stdout",
          "text": [
            "0.9104641885209739\n"
          ]
        }
      ]
    },
    {
      "cell_type": "markdown",
      "source": [
        "What if we used the values directly from the bins?"
      ],
      "metadata": {
        "id": "ShFuit40V-Nx"
      }
    },
    {
      "cell_type": "code",
      "source": [
        "QCDcounts = [ QCDcounts_CR[i] * (QCDcounts_OS_antiiso[i]/QCDcounts_SS_antiiso[i]) for i in range(len(QCDcounts_CR))]"
      ],
      "metadata": {
        "id": "a_wbGF0UI1EJ"
      },
      "execution_count": 193,
      "outputs": []
    },
    {
      "cell_type": "code",
      "source": [
        "# Create 2 plots\n",
        "fig, (ax1, ax2) = plt.subplots( nrows=2, height_ratios=[4,1])\n",
        "\n",
        "# Stack the QCD estimation with the MC backgrounds\n",
        "all_bkgdcounts = bkgdcounts + QCDcounts\n",
        "ax1.hist( [bins[:-1], bins[:-1]], bins, weights=[bkgdcounts, QCDcounts], stacked=True, color=['C0', 'pink'], label=['MC Backgrounds', 'QCD Est'])\n",
        "\n",
        "# Redraw the other things\n",
        "ax1.hist(bins[:-1], bins, weights=qqHcounts, histtype='step', color='C1', label='qqH')\n",
        "ax1.hist(bins[:-1], bins, weights=ggHcounts, histtype='step', color='C12', label='ggH')\n",
        "ax1.scatter(bins[:-1]+ 0.5*(bins[1:] - bins[:-1]), datacounts, marker='.', color='black', label='Observed')\n",
        "\n",
        "# Beautify\n",
        "ax1.set_ylabel(r'$N_{events}$', loc='top')\n",
        "ax1.set_title('CMS Open Data', fontweight='bold', loc='left')\n",
        "ax1.set_title(r'11.5 fb$^{-1}$ (2012, 8 TeV)', loc='right')\n",
        "ax1.legend()\n",
        "\n",
        "# Add a Ratio Plot\n",
        "ax2.scatter(bins[:-1], datacounts / all_bkgdcounts, marker='+', color='black')\n",
        "ax2.axhline(1.0, linestyle='--', color='black')\n",
        "\n",
        "ax2.set_xlabel('Visible di-tau mass [GeV]', loc='right')\n",
        "ax2.set_ylabel('Data / Bkgd')\n",
        "ax2.set_ylim( [0, 2.5])\n",
        "\n",
        "# Show the plots now...\n",
        "plt.show()"
      ],
      "metadata": {
        "colab": {
          "base_uri": "https://localhost:8080/",
          "height": 476
        },
        "id": "hrCRJlcpHEhq",
        "outputId": "91967751-c209-4a37-bbe4-5351737fece1"
      },
      "execution_count": 215,
      "outputs": [
        {
          "output_type": "display_data",
          "data": {
            "text/plain": [
              "<Figure size 640x480 with 2 Axes>"
            ],
            "image/png": "[encoded data removed]"
          },
          "metadata": {}
        }
      ]
    },
    {
      "cell_type": "markdown",
      "source": [
        "Our background prediction now lines up much better with the observed data! Is there a better way we could have extrapolated the QCD contribution from the CR?"
      ],
      "metadata": {
        "id": "2gKjl5kTOP30"
      }
    },
    {
      "cell_type": "markdown",
      "source": [
        "Topics for Discussion:\n",
        "- What if we had chosen a different set of variables?\n",
        "- How do we quantify the errors in this estimation?\n",
        "- What are the limitations of this method?"
      ],
      "metadata": {
        "id": "yi3bdSQwOhyY"
      }
    },
    {
      "cell_type": "markdown",
      "source": [
        "For fun, let's make one extra pretty plot, showing the contributions from all of the backgrounds"
      ],
      "metadata": {
        "id": "VP9bbOg5O52T"
      }
    },
    {
      "cell_type": "code",
      "source": [
        "# Create 2 plots\n",
        "fig, (ax1, ax2) = plt.subplots( nrows=2, height_ratios=[4,1])\n",
        "\n",
        "# Separate the MC backgrounds and their weights\n",
        "m_vis   = [SS_events[SS_events['label']==label]['m_vis'] for label in backgrounds]\n",
        "weights = [SS_events[SS_events['label']==label]['weight'] for label in backgrounds]\n",
        "\n",
        "# Now create histograms for each (np.histogram returns a tuple)\n",
        "counts_and_bins = [np.histogram( c, weights=w, bins=30, range=[20, 140]) for c, w in zip(m_vis, weights)]\n",
        "\n",
        "# Add in the QCD histogram we've already created\n",
        "counts_and_bins.append((QCDcounts, bins))\n",
        "\n",
        "# And now stack them all\n",
        "ax1.stackplot( counts_and_bins[0][1][:-1], [i[0] for i in counts_and_bins], step='post', labels=backgrounds+['QCD Est.'])\n",
        "\n",
        "# Redraw the other things\n",
        "ax1.hist(bins[:-1], bins, weights=qqHcounts, histtype='step', label='qqH')\n",
        "ax1.hist(bins[:-1], bins, weights=ggHcounts, histtype='step', label='ggH')\n",
        "ax1.scatter(bins[:-1]+ 0.5*(bins[1:] - bins[:-1]), datacounts, marker='.', color='black', label='Observed')\n",
        "# ax1.scatter(bins[:-1], datacounts, marker='.', color='black', label='Observed')\n",
        "\n",
        "# Beautify\n",
        "ax1.set_ylabel(r'$N_{events}$', loc='top')\n",
        "ax1.set_title('CMS Open Data', fontweight='bold', loc='left')\n",
        "ax1.set_title(r'11.5 fb$^{-1}$ (2012, 8 TeV)', loc='right')\n",
        "ax1.legend()\n",
        "\n",
        "# Add a Ratio Plot\n",
        "ax2.scatter(bins[:-1], datacounts / all_bkgdcounts, marker='+', color='black')\n",
        "ax2.axhline(1.0, linestyle='--', color='black')\n",
        "\n",
        "ax2.set_xlabel('Visible di-tau mass [GeV]', loc='right')\n",
        "ax2.set_ylabel('Data / Bkgd')\n",
        "ax2.set_ylim( [0, 2.5])\n",
        "\n",
        "# Show the plots now...\n",
        "plt.show()"
      ],
      "metadata": {
        "colab": {
          "base_uri": "https://localhost:8080/",
          "height": 513
        },
        "id": "O2yLOrbqJ3KD",
        "outputId": "1ca93186-3068-451b-9429-37c80a1f30bd"
      },
      "execution_count": 224,
      "outputs": [
        {
          "output_type": "stream",
          "name": "stdout",
          "text": [
            "[<matplotlib.collections.PolyCollection object at 0x7f91600fc040>, <matplotlib.collections.PolyCollection object at 0x7f91600ffdc0>, <matplotlib.collections.PolyCollection object at 0x7f91600ff250>, <matplotlib.collections.PolyCollection object at 0x7f91911f5870>, <matplotlib.collections.PolyCollection object at 0x7f918d3f8f10>, <matplotlib.collections.PolyCollection object at 0x7f918cca4400>, <matplotlib.collections.PolyCollection object at 0x7f918cca5db0>]\n"
          ]
        },
        {
          "output_type": "display_data",
          "data": {
            "text/plain": [
              "<Figure size 640x480 with 2 Axes>"
            ],
            "image/png": "[encoded data removed]"
          },
          "metadata": {}
        }
      ]
    },
    {
      "cell_type": "markdown",
      "source": [],
      "metadata": {
        "id": "UP4ukJJYd-gK"
      }
    },
    {
      "cell_type": "markdown",
      "source": [
        "# Notes"
      ],
      "metadata": {
        "id": "P9xQgTSueAKk"
      }
    },
    {
      "cell_type": "markdown",
      "source": [
        "This exercise is based heavily on an existing [CMS Open Data workshop](https://cms-opendata-workshop.github.io/workshop-lesson-abcd-method/), designed by Santeri Laurila (CERN) and Stefan Wunsch (CERN).\n",
        "\n",
        "Adaptations were made to remove the need for ROOT to be used."
      ],
      "metadata": {
        "id": "N4m9GGQ7eIB7"
      }
    },
    {
      "cell_type": "code",
      "source": [],
      "metadata": {
        "id": "4gxEKYPDezI6"
      },
      "execution_count": null,
      "outputs": []
    }
  ]
}